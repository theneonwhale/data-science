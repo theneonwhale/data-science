{
  "nbformat": 4,
  "nbformat_minor": 0,
  "metadata": {
    "colab": {
      "provenance": []
    },
    "kernelspec": {
      "name": "python3",
      "display_name": "Python 3"
    },
    "language_info": {
      "name": "python"
    }
  },
  "cells": [
    {
      "cell_type": "code",
      "source": [
        "import pandas as pd\n",
        "import glob\n",
        "from sklearn.model_selection import train_test_split\n",
        "from sklearn.svm import SVC\n",
        "from sklearn.ensemble import RandomForestClassifier\n",
        "from sklearn.metrics import accuracy_score, classification_report, confusion_matrix\n",
        "import numpy as np"
      ],
      "metadata": {
        "id": "dr-_Fw3dgpWU"
      },
      "execution_count": 1,
      "outputs": []
    },
    {
      "cell_type": "code",
      "source": [
        "def calculate_time_domain_features(df):\n",
        "    features = [\n",
        "        df['accelerometer_X'].mean(),\n",
        "        df['accelerometer_Y'].mean(),\n",
        "        df['accelerometer_Z'].mean(),\n",
        "        df['accelerometer_X'].std(),\n",
        "        df['accelerometer_Y'].std(),\n",
        "        df['accelerometer_Z'].std(),\n",
        "        df['accelerometer_X'].min(),\n",
        "        df['accelerometer_Y'].min(),\n",
        "        df['accelerometer_Z'].min(),\n",
        "        df['accelerometer_X'].max(),\n",
        "        df['accelerometer_Y'].max(),\n",
        "        df['accelerometer_Z'].max()\n",
        "    ]\n",
        "    return features\n",
        "\n",
        "def combine_csv_files(file_list):\n",
        "    df_list = []\n",
        "\n",
        "    for file in file_list:\n",
        "        df = pd.read_csv(file)\n",
        "        features = calculate_time_domain_features(df)\n",
        "        df['mean_X'] = features[0]\n",
        "        df['mean_Y'] = features[1]\n",
        "        df['mean_Z'] = features[2]\n",
        "        df['std_X'] = features[3]\n",
        "        df['std_Y'] = features[4]\n",
        "        df['std_Z'] = features[5]\n",
        "        df['min_X'] = features[6]\n",
        "        df['min_Y'] = features[7]\n",
        "        df['min_Z'] = features[8]\n",
        "        df['max_X'] = features[9]\n",
        "        df['max_Y'] = features[10]\n",
        "        df['max_Z'] = features[11]\n",
        "        df_list.append(df)\n",
        "\n",
        "    combined_df = pd.concat(df_list, ignore_index=True)\n",
        "    return combined_df"
      ],
      "metadata": {
        "id": "wXBz2nBwgtFc"
      },
      "execution_count": 2,
      "outputs": []
    },
    {
      "cell_type": "code",
      "source": [
        "path_idle = '/content/drive/MyDrive/Colabs/data_hw5/idle/*.csv'\n",
        "path_running = '/content/drive/MyDrive/Colabs/data_hw5/running/*.csv'\n",
        "path_stairs = '/content/drive/MyDrive/Colabs/data_hw5/stairs/*.csv'\n",
        "path_walking = '/content/drive/MyDrive/Colabs/data_hw5/walking/*.csv'\n",
        "\n",
        "idle_file_list = glob.glob(path_idle)\n",
        "running_file_list = glob.glob(path_running)\n",
        "stairs_file_list = glob.glob(path_stairs)\n",
        "walking_file_list = glob.glob(path_walking)\n",
        "\n",
        "idle_combined_df = combine_csv_files(idle_file_list)\n",
        "running_combined_df = combine_csv_files(running_file_list)\n",
        "stairs_combined_df = combine_csv_files(stairs_file_list)\n",
        "walking_combined_df = combine_csv_files(walking_file_list)\n",
        "\n",
        "print(idle_combined_df.head())\n",
        "print(running_combined_df.head())\n",
        "print(stairs_combined_df.head())\n",
        "print(walking_combined_df.head())"
      ],
      "metadata": {
        "colab": {
          "base_uri": "https://localhost:8080/"
        },
        "id": "UxRxwj1cgzGj",
        "outputId": "f7dcef1c-b69d-4ee7-8af6-5cbb26aeaffb"
      },
      "execution_count": 3,
      "outputs": [
        {
          "output_type": "stream",
          "name": "stdout",
          "text": [
            "   accelerometer_X  accelerometer_Y  accelerometer_Z    mean_X    mean_Y  \\\n",
            "0       -10.448297         0.852336         4.553772 -0.575087  5.054958   \n",
            "1        -2.398990         4.352659         9.179369 -0.575087  5.054958   \n",
            "2        -2.389413         5.995081         6.052542 -0.575087  5.054958   \n",
            "3         0.196325         5.300763         8.236054 -0.575087  5.054958   \n",
            "4         0.301669         5.401319         7.967903 -0.575087  5.054958   \n",
            "\n",
            "     mean_Z     std_X     std_Y     std_Z      min_X     min_Y     min_Z  \\\n",
            "0  8.051541  1.974139  1.004131  0.913991 -10.448297  0.852336  4.553772   \n",
            "1  8.051541  1.974139  1.004131  0.913991 -10.448297  0.852336  4.553772   \n",
            "2  8.051541  1.974139  1.004131  0.913991 -10.448297  0.852336  4.553772   \n",
            "3  8.051541  1.974139  1.004131  0.913991 -10.448297  0.852336  4.553772   \n",
            "4  8.051541  1.974139  1.004131  0.913991 -10.448297  0.852336  4.553772   \n",
            "\n",
            "     max_X     max_Y     max_Z  \n",
            "0  0.54109  6.627151  9.179369  \n",
            "1  0.54109  6.627151  9.179369  \n",
            "2  0.54109  6.627151  9.179369  \n",
            "3  0.54109  6.627151  9.179369  \n",
            "4  0.54109  6.627151  9.179369  \n",
            "   accelerometer_X  accelerometer_Y  accelerometer_Z    mean_X    mean_Y  \\\n",
            "0         5.171476        -3.342306        -2.394202  3.201207  4.325365   \n",
            "1        -3.045424         2.940080         5.750873  3.201207  4.325365   \n",
            "2         3.797204         8.441956         5.142745  3.201207  4.325365   \n",
            "3         1.915361         7.829040        18.042704  3.201207  4.325365   \n",
            "4         3.399767        10.836157        11.966220  3.201207  4.325365   \n",
            "\n",
            "     mean_Z     std_X     std_Y     std_Z     min_X     min_Y      min_Z  \\\n",
            "0  6.089413  4.419791  5.094885  7.482071 -6.402095 -4.252102 -14.480132   \n",
            "1  6.089413  4.419791  5.094885  7.482071 -6.402095 -4.252102 -14.480132   \n",
            "2  6.089413  4.419791  5.094885  7.482071 -6.402095 -4.252102 -14.480132   \n",
            "3  6.089413  4.419791  5.094885  7.482071 -6.402095 -4.252102 -14.480132   \n",
            "4  6.089413  4.419791  5.094885  7.482071 -6.402095 -4.252102 -14.480132   \n",
            "\n",
            "       max_X     max_Y     max_Z  \n",
            "0  12.919112  16.01721  18.23424  \n",
            "1  12.919112  16.01721  18.23424  \n",
            "2  12.919112  16.01721  18.23424  \n",
            "3  12.919112  16.01721  18.23424  \n",
            "4  12.919112  16.01721  18.23424  \n",
            "   accelerometer_X  accelerometer_Y  accelerometer_Z    mean_X    mean_Y  \\\n",
            "0         3.289633        -7.469909        -0.043096  2.366429 -9.539776   \n",
            "1        -1.651999       -17.535133        -2.250549  2.366429 -9.539776   \n",
            "2        -6.320692        -6.196194         1.896208  2.366429 -9.539776   \n",
            "3        -1.331176       -17.956512        -0.632069  2.366429 -9.539776   \n",
            "4        12.133814       -18.703505        -7.508216  2.366429 -9.539776   \n",
            "\n",
            "     mean_Z     std_X     std_Y     std_Z     min_X      min_Y      min_Z  \\\n",
            "0 -0.848824  5.156405  5.571533  4.658472 -6.847417 -18.703505 -11.492168   \n",
            "1 -0.848824  5.156405  5.571533  4.658472 -6.847417 -18.703505 -11.492168   \n",
            "2 -0.848824  5.156405  5.571533  4.658472 -6.847417 -18.703505 -11.492168   \n",
            "3 -0.848824  5.156405  5.571533  4.658472 -6.847417 -18.703505 -11.492168   \n",
            "4 -0.848824  5.156405  5.571533  4.658472 -6.847417 -18.703505 -11.492168   \n",
            "\n",
            "       max_X    max_Y      max_Z  \n",
            "0  12.650962  1.61848  10.716447  \n",
            "1  12.650962  1.61848  10.716447  \n",
            "2  12.650962  1.61848  10.716447  \n",
            "3  12.650962  1.61848  10.716447  \n",
            "4  12.650962  1.61848  10.716447  \n",
            "   accelerometer_X  accelerometer_Y  accelerometer_Z  mean_X    mean_Y  \\\n",
            "0        -3.643975       -13.081918        -2.748543 -3.4518 -9.073386   \n",
            "1       -11.563994       -15.121778       -14.015656 -3.4518 -9.073386   \n",
            "2        -7.417237        -7.086837        -4.807557 -3.4518 -9.073386   \n",
            "3        -1.915361        -1.283292         3.050213 -3.4518 -9.073386   \n",
            "4        -4.572925        -7.905654        -0.766144 -3.4518 -9.073386   \n",
            "\n",
            "     mean_Z     std_X     std_Y     std_Z      min_X      min_Y     min_Z  \\\n",
            "0 -0.950658  3.433288  4.804052  8.473405 -11.563994 -15.121778 -17.00841   \n",
            "1 -0.950658  3.433288  4.804052  8.473405 -11.563994 -15.121778 -17.00841   \n",
            "2 -0.950658  3.433288  4.804052  8.473405 -11.563994 -15.121778 -17.00841   \n",
            "3 -0.950658  3.433288  4.804052  8.473405 -11.563994 -15.121778 -17.00841   \n",
            "4 -0.950658  3.433288  4.804052  8.473405 -11.563994 -15.121778 -17.00841   \n",
            "\n",
            "      max_X     max_Y     max_Z  \n",
            "0  3.174712 -0.407014  24.49747  \n",
            "1  3.174712 -0.407014  24.49747  \n",
            "2  3.174712 -0.407014  24.49747  \n",
            "3  3.174712 -0.407014  24.49747  \n",
            "4  3.174712 -0.407014  24.49747  \n"
          ]
        }
      ]
    },
    {
      "cell_type": "code",
      "source": [
        "time_domain_features = [\n",
        "    idle_combined_df[['mean_X', 'mean_Y', 'mean_Z', 'std_X', 'std_Y', 'std_Z', 'min_X', 'min_Y', 'min_Z', 'max_X', 'max_Y', 'max_Z']],\n",
        "    running_combined_df[['mean_X', 'mean_Y', 'mean_Z', 'std_X', 'std_Y', 'std_Z', 'min_X', 'min_Y', 'min_Z', 'max_X', 'max_Y', 'max_Z']],\n",
        "    stairs_combined_df[['mean_X', 'mean_Y', 'mean_Z', 'std_X', 'std_Y', 'std_Z', 'min_X', 'min_Y', 'min_Z', 'max_X', 'max_Y', 'max_Z']],\n",
        "    walking_combined_df[['mean_X', 'mean_Y', 'mean_Z', 'std_X', 'std_Y', 'std_Z', 'min_X', 'min_Y', 'min_Z', 'max_X', 'max_Y', 'max_Z']]\n",
        "]\n",
        "activity_labels = [0, 1, 2, 3]\n",
        "\n",
        "X = pd.concat(time_domain_features, ignore_index=True)\n",
        "y = np.repeat(activity_labels, [df.shape[0] for df in time_domain_features])\n",
        "\n",
        "X_train, X_test, y_train, y_test = train_test_split(X, y, test_size=0.4, random_state=42)"
      ],
      "metadata": {
        "id": "D1FHMJ-vhTF6"
      },
      "execution_count": 4,
      "outputs": []
    },
    {
      "cell_type": "code",
      "source": [
        "# SVM classifier\n",
        "svm_classifier = SVC(kernel='rbf', C=10)\n",
        "svm_classifier.fit(X_train, y_train)\n",
        "\n",
        "svm_predictions = svm_classifier.predict(X_test)\n",
        "\n",
        "svm_accuracy = accuracy_score(y_test, svm_predictions)\n",
        "svm_classification_report = classification_report(y_test, svm_predictions)\n",
        "svm_confusion_matrix = confusion_matrix(y_test, svm_predictions)\n",
        "\n",
        "print(\"SVM Classifier Results:\")\n",
        "print(\"Accuracy:\", svm_accuracy)\n",
        "print(\"Classification Report:\")\n",
        "print(svm_classification_report)\n",
        "print(\"Confusion Matrix:\")\n",
        "print(svm_confusion_matrix)"
      ],
      "metadata": {
        "colab": {
          "base_uri": "https://localhost:8080/"
        },
        "id": "wKiWYYoyg56_",
        "outputId": "7b8d2e6a-c417-45c3-f7fb-8baaaae2b3a3"
      },
      "execution_count": 5,
      "outputs": [
        {
          "output_type": "stream",
          "name": "stdout",
          "text": [
            "SVM Classifier Results:\n",
            "Accuracy: 0.9966341689879294\n",
            "Classification Report:\n",
            "              precision    recall  f1-score   support\n",
            "\n",
            "           0       1.00      1.00      1.00     12374\n",
            "           1       1.00      1.00      1.00     40827\n",
            "           2       0.94      0.93      0.93      2014\n",
            "           3       0.99      0.99      0.99     22329\n",
            "\n",
            "    accuracy                           1.00     77544\n",
            "   macro avg       0.98      0.98      0.98     77544\n",
            "weighted avg       1.00      1.00      1.00     77544\n",
            "\n",
            "Confusion Matrix:\n",
            "[[12374     0     0     0]\n",
            " [    0 40827     0     0]\n",
            " [    0     0  1866   148]\n",
            " [    0     0   113 22216]]\n"
          ]
        }
      ]
    },
    {
      "cell_type": "code",
      "source": [
        "# Random Forest classifier\n",
        "rf_classifier = RandomForestClassifier(n_estimators=100, random_state=42)\n",
        "rf_classifier.fit(X_train, y_train)\n",
        "\n",
        "rf_predictions = rf_classifier.predict(X_test)\n",
        "\n",
        "rf_accuracy = accuracy_score(y_test, rf_predictions)\n",
        "rf_classification_report = classification_report(y_test, rf_predictions)\n",
        "rf_confusion_matrix = confusion_matrix(y_test, rf_predictions)\n",
        "\n",
        "print(\"Random Forest Classifier Results:\")\n",
        "print(\"Accuracy:\", rf_accuracy)\n",
        "print(\"Classification Report:\")\n",
        "print(rf_classification_report)\n",
        "print(\"Confusion Matrix:\")\n",
        "print(rf_confusion_matrix)"
      ],
      "metadata": {
        "colab": {
          "base_uri": "https://localhost:8080/"
        },
        "id": "GOGzDLeMg8E_",
        "outputId": "b907dbfc-1764-4e71-bc1f-9461a6b533d1"
      },
      "execution_count": 6,
      "outputs": [
        {
          "output_type": "stream",
          "name": "stdout",
          "text": [
            "Random Forest Classifier Results:\n",
            "Accuracy: 1.0\n",
            "Classification Report:\n",
            "              precision    recall  f1-score   support\n",
            "\n",
            "           0       1.00      1.00      1.00     12374\n",
            "           1       1.00      1.00      1.00     40827\n",
            "           2       1.00      1.00      1.00      2014\n",
            "           3       1.00      1.00      1.00     22329\n",
            "\n",
            "    accuracy                           1.00     77544\n",
            "   macro avg       1.00      1.00      1.00     77544\n",
            "weighted avg       1.00      1.00      1.00     77544\n",
            "\n",
            "Confusion Matrix:\n",
            "[[12374     0     0     0]\n",
            " [    0 40827     0     0]\n",
            " [    0     0  2014     0]\n",
            " [    0     0     0 22329]]\n"
          ]
        }
      ]
    },
    {
      "cell_type": "markdown",
      "source": [
        "Висновок:\n",
        "\n",
        "- Класифікатор SVM досяг точності 0.9966, з високою точністю, відгуком та F1-оцінкою для кожного класу.\n",
        "- Класифікатор Random Forest показав ідеальну точність 1.0, що свідчить про те, що він правильно класифікував всі екземпляри для даного набору даних.\n",
        "- Обидва класифікатори успішно виконали завдання точного передбачення міток активностей на основі даних акселерометра.\n",
        "- Random Forest є швидкою моделлю навчання, оскільки вона базується на розбитті даних на різні дерева. SVM трохи повільніша через обчислювально витратний процес знаходження оптимальної розділяючої гіперплощини.\n",
        "- Отримані результати підтверджують, що класифікатор Random Forest показав трохи кращі результати за точністю та швидкістю порівняно з класифікатором SVM, але обидві моделі проявили високу ефективність у класифікації активностей."
      ],
      "metadata": {
        "id": "CdR3uzOOeuuA"
      }
    }
  ]
}