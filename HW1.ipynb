{
 "cells": [
  {
   "cell_type": "code",
   "execution_count": 1,
   "metadata": {
    "id": "euVGk2LqQrD4"
   },
   "outputs": [],
   "source": [
    "import numpy as np"
   ]
  },
  {
   "cell_type": "markdown",
   "metadata": {
    "id": "Emdv4EOC_Qt4"
   },
   "source": [
    "1. Створіть одновимірний масив (вектор) з першими 10-ма натуральними числами та виведіть його значення."
   ]
  },
  {
   "cell_type": "code",
   "execution_count": 2,
   "metadata": {
    "colab": {
     "base_uri": "https://localhost:8080/"
    },
    "id": "QscQm3XgxuUl",
    "outputId": "74a3cd3e-e591-458d-a50a-5ccde8cdfb67"
   },
   "outputs": [
    {
     "name": "stdout",
     "output_type": "stream",
     "text": [
      "[ 1  2  3  4  5  6  7  8  9 10]\n"
     ]
    }
   ],
   "source": [
    "vector = np.array([1, 2, 3, 4, 5, 6, 7, 8, 9, 10])\n",
    "print(vector)"
   ]
  },
  {
   "cell_type": "markdown",
   "metadata": {
    "id": "T23TaXC2_d4B"
   },
   "source": [
    "2. Створіть двовимірний масив (матрицю) розміром 3x3, заповніть його нулями та виведіть його значення."
   ]
  },
  {
   "cell_type": "code",
   "execution_count": 3,
   "metadata": {
    "colab": {
     "base_uri": "https://localhost:8080/"
    },
    "id": "OEozLeDy_kjY",
    "outputId": "882aed33-88b0-498f-b14a-0aeeeae1563a"
   },
   "outputs": [
    {
     "name": "stdout",
     "output_type": "stream",
     "text": [
      "[[0 0 0]\n",
      " [0 0 0]\n",
      " [0 0 0]]\n"
     ]
    }
   ],
   "source": [
    "matrix = np.zeros((3, 3), dtype=int)\n",
    "print(matrix)"
   ]
  },
  {
   "cell_type": "markdown",
   "metadata": {
    "id": "6H9TNH-2AzlI"
   },
   "source": [
    "3. Створіть масив розміром 5x5, заповніть його випадковими цілими числами в діапазоні від 1 до 10 та виведіть його значення."
   ]
  },
  {
   "cell_type": "code",
   "execution_count": 4,
   "metadata": {
    "colab": {
     "base_uri": "https://localhost:8080/"
    },
    "id": "dI-PK0qkA2Gj",
    "outputId": "0591bd84-9156-429a-ba49-738f36a66580"
   },
   "outputs": [
    {
     "name": "stdout",
     "output_type": "stream",
     "text": [
      "[[10  3  4 10  7]\n",
      " [ 1 10  3  1 10]\n",
      " [ 9  5  1  4  4]\n",
      " [ 9  9  2  1  5]\n",
      " [ 2  8  8  8  4]]\n"
     ]
    }
   ],
   "source": [
    "matrix = np.random.randint(1, 11, size=(5, 5))\n",
    "print(matrix)"
   ]
  },
  {
   "cell_type": "markdown",
   "metadata": {
    "id": "sYAkofKFBHoJ"
   },
   "source": [
    "4. Створіть масив розміром 4x4, заповніть його випадковими дійсними числами в діапазоні від 0 до 1 та виведіть його значення."
   ]
  },
  {
   "cell_type": "code",
   "execution_count": 5,
   "metadata": {
    "colab": {
     "base_uri": "https://localhost:8080/"
    },
    "id": "PUGDdMF9BJK1",
    "outputId": "3b539b55-c11f-4873-b6e3-497b7f9ef29c"
   },
   "outputs": [
    {
     "name": "stdout",
     "output_type": "stream",
     "text": [
      "[[0.98993497 0.27354746 0.66773316 0.23096816]\n",
      " [0.54609635 0.27725337 0.62782884 0.63924957]\n",
      " [0.92143253 0.32755572 0.20156307 0.05425161]\n",
      " [0.53836565 0.54642721 0.48939017 0.39946379]]\n"
     ]
    }
   ],
   "source": [
    "matrix = np.random.rand(4, 4)\n",
    "print(matrix)"
   ]
  },
  {
   "cell_type": "markdown",
   "metadata": {
    "id": "aj5R8zt0BkYN"
   },
   "source": [
    "5. Створіть два одновимірних масиви розміром 5, заповніть їх випадковими цілими числами в діапазоні від 1 до 10 та виконайте на них поелементні операції додавання, віднімання та множення."
   ]
  },
  {
   "cell_type": "code",
   "execution_count": 6,
   "metadata": {
    "colab": {
     "base_uri": "https://localhost:8080/"
    },
    "id": "wjJEB7ADBprQ",
    "outputId": "ffe790dc-477b-4a2a-82e2-4a5541954fa9"
   },
   "outputs": [
    {
     "name": "stdout",
     "output_type": "stream",
     "text": [
      "array1: [9 5 2 4 5]\n",
      "array2: [ 4  2  6 10 10]\n",
      "addition: [13  7  8 14 15]\n",
      "subtraction: [ 5  3 -4 -6 -5]\n",
      "multiplication: [36 10 12 40 50]\n"
     ]
    }
   ],
   "source": [
    "array1 = np.random.randint(1, 11, size=5)\n",
    "print(\"array1:\", array1)\n",
    "\n",
    "array2 = np.random.randint(1, 11, size=5)\n",
    "print(\"array2:\", array2)\n",
    "\n",
    "addition = array1 + array2\n",
    "print(\"addition:\", addition)\n",
    "\n",
    "subtraction = array1 - array2\n",
    "print(\"subtraction:\", subtraction)\n",
    "\n",
    "multiplication = array1 * array2\n",
    "print(\"multiplication:\", multiplication)"
   ]
  },
  {
   "cell_type": "markdown",
   "metadata": {
    "id": "110LUfoICWdS"
   },
   "source": [
    "6. Створіть два вектори розміром 7, заповніть довільними числами та знайдіть їх скалярний добуток."
   ]
  },
  {
   "cell_type": "code",
   "execution_count": 7,
   "metadata": {
    "colab": {
     "base_uri": "https://localhost:8080/"
    },
    "id": "E18MDGB5CYyO",
    "outputId": "39f8b504-e2b5-4ae2-b9f0-ba06f1c3e419"
   },
   "outputs": [
    {
     "name": "stdout",
     "output_type": "stream",
     "text": [
      "vector1: [1 2 3 4 5 6 7]\n",
      "vector2: [7 6 5 4 3 2 1]\n",
      "result: 84\n"
     ]
    }
   ],
   "source": [
    "vector1 = np.array([1, 2, 3, 4, 5, 6, 7])\n",
    "print(\"vector1:\", vector1)\n",
    "\n",
    "vector2 = np.array([7, 6, 5, 4, 3, 2, 1])\n",
    "print(\"vector2:\", vector2)\n",
    "\n",
    "result = np.dot(vector1, vector2)\n",
    "print(\"result:\", result)"
   ]
  },
  {
   "cell_type": "markdown",
   "metadata": {
    "id": "9jQA77aBDR1Z"
   },
   "source": [
    "7. Створіть дві матриці розміром 2x2 та 2x3, заповніть їх випадковими цілими числами в діапазоні від 1 до 10 та перемножте їх між собою."
   ]
  },
  {
   "cell_type": "code",
   "execution_count": 8,
   "metadata": {
    "colab": {
     "base_uri": "https://localhost:8080/"
    },
    "id": "39COQaZDDV7o",
    "outputId": "b7b6d00e-5708-4df3-b5fb-4706229e598d"
   },
   "outputs": [
    {
     "name": "stdout",
     "output_type": "stream",
     "text": [
      "matrix1:\n",
      "[[2 7]\n",
      " [6 6]]\n",
      "matrix2:\n",
      "[[7 5 8]\n",
      " [5 6 9]]\n",
      "result:\n",
      "[[ 49  52  79]\n",
      " [ 72  66 102]]\n"
     ]
    }
   ],
   "source": [
    "matrix1 = np.random.randint(1, 11, size=(2, 2))\n",
    "print(\"matrix1:\")\n",
    "print(matrix1)\n",
    "\n",
    "matrix2 = np.random.randint(1, 11, size=(2, 3))\n",
    "print(\"matrix2:\")\n",
    "print(matrix2)\n",
    "\n",
    "result = np.dot(matrix1, matrix2)\n",
    "print(\"result:\")\n",
    "print(result)"
   ]
  },
  {
   "cell_type": "markdown",
   "metadata": {
    "id": "e7VU4A5dFTl2"
   },
   "source": [
    "8. Створіть матрицю розміром 3x3, заповніть її випадковими цілими числами в діапазоні від 1 до 10 та знайдіть її обернену матрицю."
   ]
  },
  {
   "cell_type": "code",
   "execution_count": 9,
   "metadata": {
    "colab": {
     "base_uri": "https://localhost:8080/"
    },
    "id": "y0IXbuBVFlG4",
    "outputId": "f6ad5b45-9c7e-405f-ac86-a3291fd0732b"
   },
   "outputs": [
    {
     "name": "stdout",
     "output_type": "stream",
     "text": [
      "matrix:\n",
      "[[3 5 5]\n",
      " [2 1 2]\n",
      " [2 7 2]]\n",
      "inverse_matrix:\n",
      "[[-0.5         1.04166667  0.20833333]\n",
      " [ 0.         -0.16666667  0.16666667]\n",
      " [ 0.5        -0.45833333 -0.29166667]]\n"
     ]
    }
   ],
   "source": [
    "matrix = np.random.randint(1, 11, size=(3, 3))\n",
    "print(\"matrix:\")\n",
    "print(matrix)\n",
    "\n",
    "inverse_matrix = np.linalg.inv(matrix)\n",
    "print(\"inverse_matrix:\")\n",
    "print(inverse_matrix)"
   ]
  },
  {
   "cell_type": "markdown",
   "metadata": {
    "id": "GW3s0IuAGNUU"
   },
   "source": [
    "9. Створіть матрицю розміром 4x4, заповніть її випадковими дійсними числами в діапазоні від 0 до 1 та транспонуйте її."
   ]
  },
  {
   "cell_type": "code",
   "execution_count": 10,
   "metadata": {
    "colab": {
     "base_uri": "https://localhost:8080/"
    },
    "id": "R9MD15DrGOuc",
    "outputId": "1ea7517b-d5d2-4b03-994a-db91c6f28512"
   },
   "outputs": [
    {
     "name": "stdout",
     "output_type": "stream",
     "text": [
      "matrix:\n",
      "[[0.73443886 0.18518665 0.89466759 0.30927246]\n",
      " [0.9606474  0.63046182 0.35400919 0.90269944]\n",
      " [0.91278706 0.36298835 0.23657473 0.49457406]\n",
      " [0.28570102 0.5474606  0.82960954 0.84876673]]\n",
      "transposed_matrix:\n",
      "[[0.73443886 0.9606474  0.91278706 0.28570102]\n",
      " [0.18518665 0.63046182 0.36298835 0.5474606 ]\n",
      " [0.89466759 0.35400919 0.23657473 0.82960954]\n",
      " [0.30927246 0.90269944 0.49457406 0.84876673]]\n"
     ]
    }
   ],
   "source": [
    "matrix = np.random.rand(4, 4)\n",
    "print(\"matrix:\")\n",
    "print(matrix)\n",
    "\n",
    "transposed_matrix = np.transpose(matrix)\n",
    "# transposed_matrix = matrix.T\n",
    "print(\"transposed_matrix:\")\n",
    "print(transposed_matrix)"
   ]
  },
  {
   "cell_type": "markdown",
   "metadata": {
    "id": "ZBfLeWbEG9CK"
   },
   "source": [
    "10. Створіть матрицю розміром 3x4 та вектор розміром 4, заповніть їх випадковими цілими числами в діапазоні від 1 до 10 та перемножте матрицю на вектор."
   ]
  },
  {
   "cell_type": "code",
   "execution_count": 11,
   "metadata": {
    "colab": {
     "base_uri": "https://localhost:8080/"
    },
    "id": "12GCgnHqHCdi",
    "outputId": "82a97cb4-999b-49e2-cde8-2bcccc2869c7"
   },
   "outputs": [
    {
     "name": "stdout",
     "output_type": "stream",
     "text": [
      "matrix:\n",
      "[[1 4 6 2]\n",
      " [7 6 8 3]\n",
      " [5 9 3 9]]\n",
      "vector:\n",
      "[4 2 6 7]\n",
      "result:\n",
      "[ 62 109 119]\n"
     ]
    }
   ],
   "source": [
    "matrix = np.random.randint(1, 11, size=(3, 4))\n",
    "print(\"matrix:\")\n",
    "print(matrix)\n",
    "\n",
    "vector = np.random.randint(1, 11, size=4)\n",
    "print(\"vector:\")\n",
    "print(vector)\n",
    "\n",
    "result = np.dot(matrix, vector)\n",
    "print(\"result:\")\n",
    "print(result)"
   ]
  },
  {
   "cell_type": "markdown",
   "metadata": {
    "id": "sFe0rYXJIAxQ"
   },
   "source": [
    "11. Створіть матрицю розміром 2x3 та вектор розміром 3, заповніть їх випадковими дійсними числами в діапазоні від 0 до 1 та перемножте матрицю на вектор."
   ]
  },
  {
   "cell_type": "code",
   "execution_count": 12,
   "metadata": {
    "colab": {
     "base_uri": "https://localhost:8080/"
    },
    "id": "UUhiG3RgKa2w",
    "outputId": "d8c3465b-75fe-4840-d219-4f9d75d445e2"
   },
   "outputs": [
    {
     "name": "stdout",
     "output_type": "stream",
     "text": [
      "matrix:\n",
      "[[0.68503756 0.79759818 0.40052203]\n",
      " [0.16086001 0.39718864 0.49948786]]\n",
      "vector:\n",
      "[0.89385944 0.32311252 0.51929072]\n",
      "result:\n",
      "[1.07802862 0.53150227]\n"
     ]
    }
   ],
   "source": [
    "matrix = np.random.rand(2, 3)\n",
    "print(\"matrix:\")\n",
    "print(matrix)\n",
    "\n",
    "vector = np.random.rand(3)\n",
    "print(\"vector:\")\n",
    "print(vector)\n",
    "\n",
    "result = np.dot(matrix, vector)\n",
    "print(\"result:\")\n",
    "print(result)"
   ]
  },
  {
   "cell_type": "markdown",
   "metadata": {
    "id": "TVKdnv9kLGuj"
   },
   "source": [
    "12. Створіть дві матриці розміром 2x2, заповніть їх випадковими цілими числами в діапазоні від 1 до 10 та виконайте їхнє поелементне множення."
   ]
  },
  {
   "cell_type": "code",
   "execution_count": 13,
   "metadata": {
    "colab": {
     "base_uri": "https://localhost:8080/"
    },
    "id": "SHapjy1xLPDO",
    "outputId": "98882d55-bbaf-4ed3-e32b-f13a3a0c5303"
   },
   "outputs": [
    {
     "name": "stdout",
     "output_type": "stream",
     "text": [
      "matrix1:\n",
      "[[ 5  2]\n",
      " [10  6]]\n",
      "matrix2:\n",
      "[[ 2  2]\n",
      " [10  6]]\n",
      "result:\n",
      "[[ 10   4]\n",
      " [100  36]]\n"
     ]
    }
   ],
   "source": [
    "matrix1 = np.random.randint(1, 11, size=(2, 2))\n",
    "print(\"matrix1:\")\n",
    "print(matrix1)\n",
    "\n",
    "matrix2 = np.random.randint(1, 11, size=(2, 2))\n",
    "print(\"matrix2:\")\n",
    "print(matrix2)\n",
    "\n",
    "result = matrix1 * matrix2\n",
    "print(\"result:\")\n",
    "print(result)"
   ]
  },
  {
   "cell_type": "markdown",
   "metadata": {
    "id": "-FBOGAX4LbMJ"
   },
   "source": [
    "13. Створіть дві матриці розміром 2x2, заповніть їх випадковими цілими числами в діапазоні від 1 до 10 та знайдіть їх добуток."
   ]
  },
  {
   "cell_type": "code",
   "execution_count": 14,
   "metadata": {
    "colab": {
     "base_uri": "https://localhost:8080/"
    },
    "id": "ovdQSmRaLoXm",
    "outputId": "885f6cd4-749b-48f1-daf3-9357944f7dd4"
   },
   "outputs": [
    {
     "name": "stdout",
     "output_type": "stream",
     "text": [
      "matrix1:\n",
      "[[3 6]\n",
      " [2 9]]\n",
      "matrix2:\n",
      "[[1 6]\n",
      " [1 4]]\n",
      "result:\n",
      "[[ 9 42]\n",
      " [11 48]]\n"
     ]
    }
   ],
   "source": [
    "matrix1 = np.random.randint(1, 11, size=(2, 2))\n",
    "print(\"matrix1:\")\n",
    "print(matrix1)\n",
    "\n",
    "matrix2 = np.random.randint(1, 11, size=(2, 2))\n",
    "print(\"matrix2:\")\n",
    "print(matrix2)\n",
    "\n",
    "result = np.dot(matrix1, matrix2)\n",
    "print(\"result:\")\n",
    "print(result)"
   ]
  },
  {
   "cell_type": "markdown",
   "metadata": {
    "id": "9Qtl2GKpMBSM"
   },
   "source": [
    "14. Створіть матрицю розміром 5x5, заповніть її випадковими цілими числами в діапазоні від 1 до 100 та знайдіть суму елементів матриці."
   ]
  },
  {
   "cell_type": "code",
   "execution_count": 15,
   "metadata": {
    "colab": {
     "base_uri": "https://localhost:8080/"
    },
    "id": "7AUFkxlUMKLu",
    "outputId": "d825c5e2-5287-4419-c3cb-e5d72833f94f"
   },
   "outputs": [
    {
     "name": "stdout",
     "output_type": "stream",
     "text": [
      "matrix:\n",
      "[[46 73 81 25  8]\n",
      " [56 70 64 22 42]\n",
      " [69 99 48 79 12]\n",
      " [ 9 31 18 90 69]\n",
      " [ 2 62 73 36 91]]\n",
      "result:\n",
      "1275\n"
     ]
    }
   ],
   "source": [
    "matrix = np.random.randint(1, 101, size=(5, 5))\n",
    "print(\"matrix:\")\n",
    "print(matrix)\n",
    "\n",
    "result = np.sum(matrix)\n",
    "print(\"result:\")\n",
    "print(result)"
   ]
  },
  {
   "cell_type": "markdown",
   "metadata": {
    "id": "lFqibmGGM8Mb"
   },
   "source": [
    "15. Створіть дві матриці розміром 4x4, заповніть їх випадковими цілими числами в діапазоні від 1 до 10 та знайдіть їхню різницю."
   ]
  },
  {
   "cell_type": "code",
   "execution_count": 16,
   "metadata": {
    "colab": {
     "base_uri": "https://localhost:8080/"
    },
    "id": "R9EZfq7VNCQL",
    "outputId": "17946111-a65c-473b-b81e-c236a40968d3"
   },
   "outputs": [
    {
     "name": "stdout",
     "output_type": "stream",
     "text": [
      "matrix1:\n",
      "[[10  2  4  6]\n",
      " [ 5  9 10 10]\n",
      " [ 5 10 10  9]\n",
      " [ 3  3  4  7]]\n",
      "matrix2:\n",
      "[[1 2 6 5]\n",
      " [5 1 3 6]\n",
      " [1 4 5 4]\n",
      " [5 1 3 1]]\n",
      "result:\n",
      "[[ 9  0 -2  1]\n",
      " [ 0  8  7  4]\n",
      " [ 4  6  5  5]\n",
      " [-2  2  1  6]]\n"
     ]
    }
   ],
   "source": [
    "matrix1 = np.random.randint(1, 11, size=(4, 4))\n",
    "print(\"matrix1:\")\n",
    "print(matrix1)\n",
    "\n",
    "matrix2 = np.random.randint(1, 11, size=(4, 4))\n",
    "print(\"matrix2:\")\n",
    "print(matrix2)\n",
    "\n",
    "result = matrix1 - matrix2\n",
    "print(\"result:\")\n",
    "print(result)"
   ]
  },
  {
   "cell_type": "markdown",
   "metadata": {
    "id": "RjWJ1aRrNeuz"
   },
   "source": [
    "16. Створіть матрицю розміром 3x3, заповніть її випадковими дійсними числами в діапазоні від 0 до 1 та знайдіть вектор-стовпчик, що містить суму елементів кожного рядка матриці."
   ]
  },
  {
   "cell_type": "code",
   "execution_count": 17,
   "metadata": {
    "colab": {
     "base_uri": "https://localhost:8080/"
    },
    "id": "LJgp_7MJNzOv",
    "outputId": "3c0cd3c3-3fd6-499b-ddd3-b242f64e1b4d"
   },
   "outputs": [
    {
     "name": "stdout",
     "output_type": "stream",
     "text": [
      "matrix:\n",
      "[[0.56571885 0.28882979 0.44592254]\n",
      " [0.33446734 0.14778697 0.65310615]\n",
      " [0.97596248 0.18299497 0.95566756]]\n",
      "sums:\n",
      "[1.30047117 1.13536046 2.11462501]\n",
      "result:\n",
      "[[1.30047117]\n",
      " [1.13536046]\n",
      " [2.11462501]]\n"
     ]
    }
   ],
   "source": [
    "matrix = np.random.rand(3, 3)\n",
    "print(\"matrix:\")\n",
    "print(matrix)\n",
    "\n",
    "sums = np.sum(matrix, axis=1)\n",
    "print(\"sums:\")\n",
    "print(sums)\n",
    "\n",
    "result = sums.reshape(-1, 1)\n",
    "print(\"result:\")\n",
    "print(result)"
   ]
  },
  {
   "cell_type": "markdown",
   "metadata": {
    "id": "_Y5vB2a_OOZA"
   },
   "source": [
    "17. Створіть матрицю розміром 3x4 з довільними цілими числами і створінь матрицю з квадратами цих чисел."
   ]
  },
  {
   "cell_type": "code",
   "execution_count": 18,
   "metadata": {
    "colab": {
     "base_uri": "https://localhost:8080/"
    },
    "id": "Vi8Gfp3jOTMq",
    "outputId": "961bc382-2dd8-4ded-b597-cead643293d1"
   },
   "outputs": [
    {
     "name": "stdout",
     "output_type": "stream",
     "text": [
      "matrix:\n",
      "[[6 7 8 3]\n",
      " [1 4 4 2]\n",
      " [1 9 4 4]]\n",
      "squared_matrix:\n",
      "[[36 49 64  9]\n",
      " [ 1 16 16  4]\n",
      " [ 1 81 16 16]]\n"
     ]
    }
   ],
   "source": [
    "matrix = np.random.randint(1, 10, size=(3, 4))\n",
    "print(\"matrix:\")\n",
    "print(matrix)\n",
    "\n",
    "squared_matrix = np.square(matrix)\n",
    "print(\"squared_matrix:\")\n",
    "print(squared_matrix)"
   ]
  },
  {
   "cell_type": "markdown",
   "metadata": {
    "id": "ysHsQn7BOg2-"
   },
   "source": [
    "18. Створіть вектор розміром 4, заповніть його випадковими цілими числами в діапазоні від 1 до 50 та знайдіть вектор з квадратними коренями цих чисел."
   ]
  },
  {
   "cell_type": "code",
   "execution_count": 19,
   "metadata": {
    "colab": {
     "base_uri": "https://localhost:8080/"
    },
    "id": "FeEctYsROlyV",
    "outputId": "60663483-7a38-4091-b126-a16ad74bf268"
   },
   "outputs": [
    {
     "name": "stdout",
     "output_type": "stream",
     "text": [
      "vector:\n",
      "[37 15 48 26]\n",
      "sqrt_vector:\n",
      "[6.08276253 3.87298335 6.92820323 5.09901951]\n"
     ]
    }
   ],
   "source": [
    "vector = np.random.randint(1, 51, size=4)\n",
    "print(\"vector:\")\n",
    "print(vector)\n",
    "\n",
    "sqrt_vector = np.sqrt(vector)\n",
    "print(\"sqrt_vector:\")\n",
    "print(sqrt_vector)"
   ]
  }
 ],
 "metadata": {
  "colab": {
   "provenance": []
  },
  "kernelspec": {
   "display_name": "Python 3 (ipykernel)",
   "language": "python",
   "name": "python3"
  },
  "language_info": {
   "codemirror_mode": {
    "name": "ipython",
    "version": 3
   },
   "file_extension": ".py",
   "mimetype": "text/x-python",
   "name": "python",
   "nbconvert_exporter": "python",
   "pygments_lexer": "ipython3",
   "version": "3.10.8"
  }
 },
 "nbformat": 4,
 "nbformat_minor": 4
}
