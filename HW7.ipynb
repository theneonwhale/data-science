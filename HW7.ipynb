{
  "cells": [
    {
      "cell_type": "code",
      "execution_count": 1,
      "metadata": {
        "colab": {
          "base_uri": "https://localhost:8080/"
        },
        "id": "qzUhgxJQOAkc",
        "outputId": "587728ec-135d-4044-fbbf-9dfc73e0176d"
      },
      "outputs": [
        {
          "output_type": "stream",
          "name": "stdout",
          "text": [
            "Collecting scikit-surprise\n",
            "  Downloading scikit-surprise-1.1.3.tar.gz (771 kB)\n",
            "\u001b[2K     \u001b[90m━━━━━━━━━━━━━━━━━━━━━━━━━━━━━━━━━━━━━━━\u001b[0m \u001b[32m772.0/772.0 kB\u001b[0m \u001b[31m6.2 MB/s\u001b[0m eta \u001b[36m0:00:00\u001b[0m\n",
            "\u001b[?25h  Preparing metadata (setup.py) ... \u001b[?25l\u001b[?25hdone\n",
            "Requirement already satisfied: joblib>=1.0.0 in /usr/local/lib/python3.10/dist-packages (from scikit-surprise) (1.3.1)\n",
            "Requirement already satisfied: numpy>=1.17.3 in /usr/local/lib/python3.10/dist-packages (from scikit-surprise) (1.22.4)\n",
            "Requirement already satisfied: scipy>=1.3.2 in /usr/local/lib/python3.10/dist-packages (from scikit-surprise) (1.10.1)\n",
            "Building wheels for collected packages: scikit-surprise\n",
            "  Building wheel for scikit-surprise (setup.py) ... \u001b[?25l\u001b[?25hdone\n",
            "  Created wheel for scikit-surprise: filename=scikit_surprise-1.1.3-cp310-cp310-linux_x86_64.whl size=2811633 sha256=2d93184d30e4fd606a6831f1a2afc860aed51749fd3a691539254b0327415795\n",
            "  Stored in directory: /root/.cache/pip/wheels/a5/ca/a8/4e28def53797fdc4363ca4af740db15a9c2f1595ebc51fb445\n",
            "Successfully built scikit-surprise\n",
            "Installing collected packages: scikit-surprise\n",
            "Successfully installed scikit-surprise-1.1.3\n"
          ]
        }
      ],
      "source": [
        "!pip install scikit-surprise"
      ]
    },
    {
      "cell_type": "code",
      "execution_count": 2,
      "metadata": {
        "id": "8YGDr1PJOB8X"
      },
      "outputs": [],
      "source": [
        "import pandas as pd\n",
        "\n",
        "from surprise import Dataset, SVD, SVDpp, NMF, accuracy\n",
        "from surprise.model_selection import cross_validate, GridSearchCV\n",
        "\n",
        "from collections import defaultdict\n",
        "import statistics\n",
        "from surprise.model_selection import train_test_split"
      ]
    },
    {
      "cell_type": "code",
      "execution_count": 3,
      "metadata": {
        "id": "ykEHQo2w7HAo",
        "colab": {
          "base_uri": "https://localhost:8080/"
        },
        "outputId": "fd4a77b1-a1b7-4ea0-e1d0-497670eadc11"
      },
      "outputs": [
        {
          "output_type": "stream",
          "name": "stdout",
          "text": [
            "Dataset ml-100k could not be found. Do you want to download it? [Y/n] н\n",
            "Dataset ml-100k could not be found. Do you want to download it? [Y/n] y\n",
            "Trying to download dataset from https://files.grouplens.org/datasets/movielens/ml-100k.zip...\n",
            "Done! Dataset ml-100k has been saved to /root/.surprise_data/ml-100k\n"
          ]
        }
      ],
      "source": [
        "data = Dataset.load_builtin(\"ml-100k\")"
      ]
    },
    {
      "cell_type": "code",
      "execution_count": 4,
      "metadata": {
        "colab": {
          "base_uri": "https://localhost:8080/"
        },
        "id": "oTUO9t4Q7E83",
        "outputId": "70d8a321-3d62-450a-bdc4-cb39806389fe"
      },
      "outputs": [
        {
          "output_type": "stream",
          "name": "stdout",
          "text": [
            "943 users\n",
            "1682 items\n",
            "100000 ratings\n",
            "\n"
          ]
        }
      ],
      "source": [
        "with open(\"/root/.surprise_data/ml-100k/ml-100k/u.info\", \"r\") as f:\n",
        "    print(f.read())"
      ]
    },
    {
      "cell_type": "code",
      "execution_count": 5,
      "metadata": {
        "colab": {
          "base_uri": "https://localhost:8080/"
        },
        "id": "fJY84ToCOEg7",
        "outputId": "14f4b1c7-b950-41d0-91ea-d7f85084d1d6"
      },
      "outputs": [
        {
          "output_type": "stream",
          "name": "stdout",
          "text": [
            "  user_id item_id  rating\n",
            "0     196     242     3.0\n",
            "1     186     302     3.0\n",
            "2      22     377     1.0\n",
            "3     244      51     2.0\n",
            "4     166     346     1.0\n"
          ]
        }
      ],
      "source": [
        "raw_ratings = data.raw_ratings\n",
        "raw_ratings = [(user_id, item_id, rating) for user_id, item_id, rating, _ in raw_ratings]\n",
        "\n",
        "columns = ['user_id', 'item_id', 'rating']\n",
        "df = pd.DataFrame(raw_ratings, columns=columns)\n",
        "\n",
        "print(df.head())"
      ]
    },
    {
      "cell_type": "code",
      "execution_count": 6,
      "metadata": {
        "colab": {
          "base_uri": "https://localhost:8080/"
        },
        "id": "JqtI0vce2jLD",
        "outputId": "57cf573d-4899-49ca-bc5b-53fe2a8761af"
      },
      "outputs": [
        {
          "output_type": "stream",
          "name": "stdout",
          "text": [
            "Mean Rating: 3.52986\n",
            "Standard Deviation of Ratings: 1.125673599144316\n"
          ]
        }
      ],
      "source": [
        "mean_rating = df['rating'].mean()\n",
        "std_rating = df['rating'].std()\n",
        "\n",
        "print(\"Mean Rating:\", mean_rating)\n",
        "print(\"Standard Deviation of Ratings:\", std_rating)"
      ]
    },
    {
      "cell_type": "code",
      "execution_count": 7,
      "metadata": {
        "id": "3CAPnsC5-3Zw"
      },
      "outputs": [],
      "source": [
        "trainset, testset = train_test_split(data, test_size=0.2)"
      ]
    },
    {
      "cell_type": "markdown",
      "metadata": {
        "id": "uUVFJ6D37q7J"
      },
      "source": [
        "## SVD"
      ]
    },
    {
      "cell_type": "code",
      "source": [
        "param_grid_svd = {\n",
        "    'n_epochs': [10, 15, 20],\n",
        "    'lr_all': [0.002, 0.005],\n",
        "    'reg_all': [0.04, 0.06],\n",
        "    'n_factors': [1, 20, 50],\n",
        "    'init_mean': [mean_rating],\n",
        "    'init_std_dev': [0.1, 1]\n",
        "}"
      ],
      "metadata": {
        "id": "T_0ZtYHZz5oI"
      },
      "execution_count": 8,
      "outputs": []
    },
    {
      "cell_type": "code",
      "execution_count": 9,
      "metadata": {
        "colab": {
          "base_uri": "https://localhost:8080/"
        },
        "id": "yP_yQHvUOTyB",
        "outputId": "c47062fc-9dd2-45bc-bb9e-27ae468e2d40"
      },
      "outputs": [
        {
          "output_type": "stream",
          "name": "stderr",
          "text": [
            "[Parallel(n_jobs=-1)]: Using backend LokyBackend with 2 concurrent workers.\n",
            "[Parallel(n_jobs=-1)]: Done  14 tasks      | elapsed:   13.1s\n",
            "[Parallel(n_jobs=-1)]: Done  68 tasks      | elapsed:   49.1s\n",
            "[Parallel(n_jobs=-1)]: Done 158 tasks      | elapsed:  1.8min\n",
            "[Parallel(n_jobs=-1)]: Done 284 tasks      | elapsed:  3.7min\n",
            "[Parallel(n_jobs=-1)]: Done 360 out of 360 | elapsed:  4.8min finished\n"
          ]
        }
      ],
      "source": [
        "grid_search_svd = GridSearchCV(SVD, param_grid_svd, measures=['rmse', 'mae'], cv=5, n_jobs=-1, joblib_verbose=5)\n",
        "\n",
        "grid_search_svd.fit(data)"
      ]
    },
    {
      "cell_type": "code",
      "execution_count": 31,
      "metadata": {
        "colab": {
          "base_uri": "https://localhost:8080/"
        },
        "id": "IMg_Szsd5qLj",
        "outputId": "4d0af97a-6b24-4253-8281-d3b879a807ce"
      },
      "outputs": [
        {
          "output_type": "stream",
          "name": "stdout",
          "text": [
            "{'rmse': {'n_epochs': 20, 'lr_all': 0.005, 'reg_all': 0.06, 'n_factors': 1, 'init_mean': 3.52986, 'init_std_dev': 0.1}, 'mae': {'n_epochs': 20, 'lr_all': 0.005, 'reg_all': 0.06, 'n_factors': 1, 'init_mean': 3.52986, 'init_std_dev': 0.1}}\n",
            "0.9517164111984486\n",
            "0.7498014386058419\n",
            "{'n_epochs': 20, 'lr_all': 0.005, 'reg_all': 0.06, 'n_factors': 1, 'init_mean': 3.52986, 'init_std_dev': 0.1}\n"
          ]
        }
      ],
      "source": [
        "print(grid_search_svd.best_params)\n",
        "print(grid_search_svd.best_score['rmse'])\n",
        "print(grid_search_svd.best_score['mae'])\n",
        "best_params_svd = grid_search_svd.best_params['rmse']\n",
        "print(best_params_svd)"
      ]
    },
    {
      "cell_type": "code",
      "execution_count": 11,
      "metadata": {
        "colab": {
          "base_uri": "https://localhost:8080/"
        },
        "id": "zguduPIv-xhw",
        "outputId": "aeddfcad-6c84-4a53-cf12-3034b28eeacd"
      },
      "outputs": [
        {
          "output_type": "stream",
          "name": "stdout",
          "text": [
            "RMSE: 0.9493\n",
            "MAE:  0.7464\n"
          ]
        }
      ],
      "source": [
        "algo_svd = SVD(n_epochs=20, n_factors=1, lr_all=0.005, reg_all=0.06, init_mean=3.52986, init_std_dev=0.1)\n",
        "\n",
        "algo_svd.fit(trainset)\n",
        "\n",
        "predictions = algo_svd.test(testset)\n",
        "\n",
        "rmse = accuracy.rmse(predictions)\n",
        "mae = accuracy.mae(predictions)"
      ]
    },
    {
      "cell_type": "markdown",
      "metadata": {
        "id": "KKBKrUVt7wCY"
      },
      "source": [
        "## SVD++"
      ]
    },
    {
      "cell_type": "code",
      "source": [
        "param_grid_svd_plus = {\n",
        "    'n_epochs': [10, 15, 20],\n",
        "    'lr_all': [0.002, 0.005],\n",
        "    'reg_all': [0.04, 0.06],\n",
        "    'n_factors': [1, 20, 50],\n",
        "    'init_mean': [mean_rating],\n",
        "    'init_std_dev': [0.1]\n",
        "}"
      ],
      "metadata": {
        "id": "6OpQy9xWz-jf"
      },
      "execution_count": 12,
      "outputs": []
    },
    {
      "cell_type": "code",
      "execution_count": 13,
      "metadata": {
        "colab": {
          "base_uri": "https://localhost:8080/"
        },
        "id": "PVjw96Po7u4u",
        "outputId": "85c12179-debe-46b4-f57f-41ff65838cc8"
      },
      "outputs": [
        {
          "output_type": "stream",
          "name": "stderr",
          "text": [
            "[Parallel(n_jobs=-1)]: Using backend LokyBackend with 2 concurrent workers.\n",
            "[Parallel(n_jobs=-1)]: Done  14 tasks      | elapsed:  3.1min\n",
            "[Parallel(n_jobs=-1)]: Done  68 tasks      | elapsed: 19.0min\n",
            "[Parallel(n_jobs=-1)]: Done 108 out of 108 | elapsed: 35.7min finished\n"
          ]
        }
      ],
      "source": [
        "grid_search_svd_plus = GridSearchCV(SVDpp, param_grid_svd_plus, measures=['rmse', 'mae'], cv=3, n_jobs=-1, joblib_verbose=5)\n",
        "\n",
        "grid_search_svd_plus.fit(data)"
      ]
    },
    {
      "cell_type": "code",
      "execution_count": 30,
      "metadata": {
        "id": "qz_1-bmd8OVw",
        "colab": {
          "base_uri": "https://localhost:8080/"
        },
        "outputId": "896b409c-7868-44ae-80a6-1d6808c44d9c"
      },
      "outputs": [
        {
          "output_type": "stream",
          "name": "stdout",
          "text": [
            "{'rmse': {'n_epochs': 20, 'lr_all': 0.002, 'reg_all': 0.04, 'n_factors': 1, 'init_mean': 3.52986, 'init_std_dev': 0.1}, 'mae': {'n_epochs': 20, 'lr_all': 0.002, 'reg_all': 0.04, 'n_factors': 1, 'init_mean': 3.52986, 'init_std_dev': 0.1}}\n",
            "1.7480287618654504\n",
            "1.401785630750639\n",
            "{'n_epochs': 20, 'lr_all': 0.002, 'reg_all': 0.04, 'n_factors': 1, 'init_mean': 3.52986, 'init_std_dev': 0.1}\n"
          ]
        }
      ],
      "source": [
        "print(grid_search_svd_plus.best_params)\n",
        "print(grid_search_svd_plus.best_score['rmse'])\n",
        "print(grid_search_svd_plus.best_score['mae'])\n",
        "best_params_svd_plus = grid_search_svd_plus.best_params['rmse']\n",
        "print(best_params_svd_plus)"
      ]
    },
    {
      "cell_type": "code",
      "source": [
        "algo_svd_plus = SVDpp(n_epochs=20, n_factors=1, lr_all=0.002, reg_all=0.04, init_mean=3.52986, init_std_dev=0.1)\n",
        "\n",
        "algo_svd_plus.fit(trainset)\n",
        "\n",
        "predictions = algo_svd_plus.test(testset)\n",
        "\n",
        "rmse = accuracy.rmse(predictions)\n",
        "mae = accuracy.mae(predictions)"
      ],
      "metadata": {
        "colab": {
          "base_uri": "https://localhost:8080/"
        },
        "id": "rVegmpbP6jOi",
        "outputId": "f7aace2a-cee4-4508-cdd1-31aad2fbc7d4"
      },
      "execution_count": 15,
      "outputs": [
        {
          "output_type": "stream",
          "name": "stdout",
          "text": [
            "RMSE: 1.6651\n",
            "MAE:  1.3385\n"
          ]
        }
      ]
    },
    {
      "cell_type": "markdown",
      "metadata": {
        "id": "pIlO2TbN8pP0"
      },
      "source": [
        "## NMF"
      ]
    },
    {
      "cell_type": "code",
      "execution_count": 16,
      "metadata": {
        "id": "eGuqyirC9jpr"
      },
      "outputs": [],
      "source": [
        "param_grid_nmf = {\n",
        "    'n_epochs': [10, 15, 20],\n",
        "    'n_factors': [1, 20, 50],\n",
        "    'reg_pu': [0.02, 0.04, 0.06],\n",
        "    'reg_qi': [0.02, 0.04, 0.06]\n",
        "}"
      ]
    },
    {
      "cell_type": "code",
      "execution_count": 17,
      "metadata": {
        "colab": {
          "base_uri": "https://localhost:8080/"
        },
        "id": "Pt4qHrX28sfq",
        "outputId": "4f8568e4-2af8-4e9d-cc9f-9710fe20e7fc"
      },
      "outputs": [
        {
          "output_type": "stream",
          "name": "stderr",
          "text": [
            "[Parallel(n_jobs=-1)]: Using backend LokyBackend with 2 concurrent workers.\n",
            "[Parallel(n_jobs=-1)]: Done  14 tasks      | elapsed:    9.5s\n",
            "[Parallel(n_jobs=-1)]: Done  68 tasks      | elapsed:   50.8s\n",
            "[Parallel(n_jobs=-1)]: Done 158 tasks      | elapsed:  2.2min\n",
            "[Parallel(n_jobs=-1)]: Done 243 out of 243 | elapsed:  3.7min finished\n"
          ]
        }
      ],
      "source": [
        "grid_search_nmf = GridSearchCV(NMF, param_grid_nmf, measures=['rmse', 'mae'], cv=3, n_jobs=-1, joblib_verbose=5)\n",
        "\n",
        "grid_search_nmf.fit(data)"
      ]
    },
    {
      "cell_type": "code",
      "source": [
        "print(grid_search_nmf.best_params)\n",
        "print(grid_search_nmf.best_score['rmse'])\n",
        "print(grid_search_nmf.best_score['mae'])\n",
        "best_params_nmf = grid_search_nmf.best_params['rmse']\n",
        "print(best_params_nmf)"
      ],
      "metadata": {
        "colab": {
          "base_uri": "https://localhost:8080/"
        },
        "id": "PeGlpzEf7tZF",
        "outputId": "3638060f-9ecd-4f31-d321-36aa5aeecd9d"
      },
      "execution_count": 32,
      "outputs": [
        {
          "output_type": "stream",
          "name": "stdout",
          "text": [
            "{'rmse': {'n_epochs': 20, 'n_factors': 20, 'reg_pu': 0.06, 'reg_qi': 0.06}, 'mae': {'n_epochs': 20, 'n_factors': 20, 'reg_pu': 0.06, 'reg_qi': 0.06}}\n",
            "1.1046978665160914\n",
            "0.8408488437532761\n",
            "{'n_epochs': 20, 'n_factors': 20, 'reg_pu': 0.06, 'reg_qi': 0.06}\n"
          ]
        }
      ]
    },
    {
      "cell_type": "code",
      "source": [
        "algo_nmf = NMF(n_epochs=20, n_factors=20, reg_pu=0.06, reg_qi=0.06)\n",
        "\n",
        "algo_nmf.fit(trainset)\n",
        "\n",
        "predictions = algo_nmf.test(testset)\n",
        "\n",
        "rmse = accuracy.rmse(predictions)\n",
        "mae = accuracy.mae(predictions)"
      ],
      "metadata": {
        "colab": {
          "base_uri": "https://localhost:8080/"
        },
        "id": "xQglXFOq7yrW",
        "outputId": "d7b58bb4-2003-4c13-e1cd-23a79b7812df"
      },
      "execution_count": 19,
      "outputs": [
        {
          "output_type": "stream",
          "name": "stdout",
          "text": [
            "RMSE: 1.1071\n",
            "MAE:  0.8426\n"
          ]
        }
      ]
    },
    {
      "cell_type": "code",
      "source": [
        "algos = [SVD(**best_params_svd), SVDpp(**best_params_svd_plus), NMF(**best_params_nmf)]\n",
        "for algo in algos:\n",
        "    results = cross_validate(algo, data, measures=['RMSE', 'MAE'], cv=5, verbose=True)\n",
        "    print(f\"Algorithm: {algo.__class__.__name__}\")\n",
        "    print(f\"RMSE: {sum(results['test_rmse']) / len(results['test_rmse'])}\")\n",
        "    print(f\"MAE: {sum(results['test_mae']) / len(results['test_mae'])}\")\n",
        "    print(\"---\")"
      ],
      "metadata": {
        "colab": {
          "base_uri": "https://localhost:8080/"
        },
        "id": "7J0YUuzc4srO",
        "outputId": "a183c420-6cba-496c-f4d9-5bae93039de2"
      },
      "execution_count": 34,
      "outputs": [
        {
          "output_type": "stream",
          "name": "stdout",
          "text": [
            "Evaluating RMSE, MAE of algorithm SVD on 5 split(s).\n",
            "\n",
            "                  Fold 1  Fold 2  Fold 3  Fold 4  Fold 5  Mean    Std     \n",
            "RMSE (testset)    0.9575  0.9542  0.9517  0.9408  0.9504  0.9509  0.0056  \n",
            "MAE (testset)     0.7529  0.7532  0.7507  0.7416  0.7500  0.7497  0.0042  \n",
            "Fit time          0.86    0.88    0.92    0.88    0.91    0.89    0.02    \n",
            "Test time         0.45    0.15    0.17    0.33    0.15    0.25    0.12    \n",
            "Algorithm: SVD\n",
            "RMSE: 0.9509002571999007\n",
            "MAE: 0.7496547858309863\n",
            "---\n",
            "Evaluating RMSE, MAE of algorithm SVDpp on 5 split(s).\n",
            "\n",
            "                  Fold 1  Fold 2  Fold 3  Fold 4  Fold 5  Mean    Std     \n",
            "RMSE (testset)    1.8596  1.9716  1.9984  1.9722  1.9771  1.9558  0.0491  \n",
            "MAE (testset)     1.5312  1.6365  1.6652  1.6423  1.6428  1.6236  0.0472  \n",
            "Fit time          8.07    8.10    8.09    8.26    7.73    8.05    0.18    \n",
            "Test time         5.17    5.24    5.12    5.49    6.23    5.45    0.41    \n",
            "Algorithm: SVDpp\n",
            "RMSE: 1.9557672665133652\n",
            "MAE: 1.623592591226176\n",
            "---\n",
            "Evaluating RMSE, MAE of algorithm NMF on 5 split(s).\n",
            "\n",
            "                  Fold 1  Fold 2  Fold 3  Fold 4  Fold 5  Mean    Std     \n",
            "RMSE (testset)    1.1037  1.0987  1.0985  1.1053  1.1017  1.1016  0.0027  \n",
            "MAE (testset)     0.8403  0.8388  0.8323  0.8393  0.8385  0.8378  0.0029  \n",
            "Fit time          1.41    1.32    1.34    1.33    1.33    1.35    0.03    \n",
            "Test time         0.15    0.32    0.15    0.37    0.16    0.23    0.09    \n",
            "Algorithm: NMF\n",
            "RMSE: 1.1015869056768057\n",
            "MAE: 0.8378369733028272\n",
            "---\n"
          ]
        }
      ]
    },
    {
      "cell_type": "markdown",
      "source": [
        "# Висновок\n",
        "\n",
        "1. SVD:\n",
        "- Найкращі параметри: {'n_epochs': 20, 'lr_all': 0.005, 'reg_all': 0.06, 'n_factors': 1, 'init_mean': 3.52986, 'init_std_dev': 0.1}\n",
        "- Найкраща RMSE: 0.9517\n",
        "- Найкраща MAE: 0.7498\n",
        "- Середні часи навчання (Fit time) та часи тестування (Test time) на кожному спліті заняли відповідно приблизно 0.89 та 0.25 секунди.\n",
        "\n",
        "2. SVD++:\n",
        "- Найкращі параметри: {'n_epochs': 20, 'lr_all': 0.002, 'reg_all': 0.04, 'n_factors': 1, 'init_mean': 3.52986, 'init_std_dev': 0.1}\n",
        "- Найкраща RMSE: 1.7480\n",
        "- Найкраща MAE: 1.4018\n",
        "- Середні часи навчання (Fit time) та часи тестування (Test time) на кожному спліті заняли відповідно приблизно 8.05 та 5.45 секунд.\n",
        "\n",
        "3. NMF:\n",
        "- Найкращі параметри: {'n_epochs': 20, 'n_factors': 20, 'reg_pu': 0.06, 'reg_qi': 0.06}\n",
        "- Найкраща RMSE: 1.1047\n",
        "- Найкраща MAE: 0.8408\n",
        "- Середні часи навчання (Fit time) та часи тестування (Test time) на кожному спліті заняли відповідно приблизно 1.35 та 0.23 секунди.\n",
        "\n",
        "\n",
        "SVD показує найкращі результати серед усіх трьох алгоритмів з найнижчими значеннями RMSE (0.9517) та MAE (0.7498).\n",
        "\n",
        "SVD++ показує значно гірші результати порівняно з SVD, з набагато вищими значеннями RMSE (1.7480) та MAE (1.4018). SVD++ враховує неявний відгук, крім явних оцінок, але в даному випадку це не призвело до поліпшення результатів. SVDpp є найповільнішим алгоритмом, так як виконується тривало через високий обчислювальний ресурс, який потрібен для обробки більш складних моделей.\n",
        "\n",
        "NMF показує кращі результати, ніж SVD++, але гірші, ніж SVD. Його RMSE (1.1047) та MAE (0.8408) нижчі, ніж у SVD++, але все ж вищі, ніж у SVD. NMF має інший підхід до факторизації матриць, який спрямований на розкладання матриць на невід'ємні компоненти.\n",
        "\n",
        "Загалом, SVD виділяється як найефективніший алгоритм для даного набору даних, надаючи найкращу точність прогнозування для рейтингів фільмів.\n",
        "\n"
      ],
      "metadata": {
        "id": "eDqET-Ym-J2r"
      }
    }
  ],
  "metadata": {
    "colab": {
      "provenance": []
    },
    "kernelspec": {
      "display_name": "Python 3",
      "name": "python3"
    },
    "language_info": {
      "name": "python"
    }
  },
  "nbformat": 4,
  "nbformat_minor": 0
}