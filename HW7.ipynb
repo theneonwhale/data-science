{
  "cells": [
    {
      "cell_type": "code",
      "execution_count": 1,
      "metadata": {
        "colab": {
          "base_uri": "https://localhost:8080/"
        },
        "id": "qzUhgxJQOAkc",
        "outputId": "df684568-6209-4d8d-d11c-34f2acb4e4f8"
      },
      "outputs": [
        {
          "output_type": "stream",
          "name": "stdout",
          "text": [
            "Collecting scikit-surprise\n",
            "  Downloading scikit-surprise-1.1.3.tar.gz (771 kB)\n",
            "\u001b[2K     \u001b[90m━━━━━━━━━━━━━━━━━━━━━━━━━━━━━━━━━━━━━━━\u001b[0m \u001b[32m772.0/772.0 kB\u001b[0m \u001b[31m8.4 MB/s\u001b[0m eta \u001b[36m0:00:00\u001b[0m\n",
            "\u001b[?25h  Preparing metadata (setup.py) ... \u001b[?25l\u001b[?25hdone\n",
            "Requirement already satisfied: joblib>=1.0.0 in /usr/local/lib/python3.10/dist-packages (from scikit-surprise) (1.3.1)\n",
            "Requirement already satisfied: numpy>=1.17.3 in /usr/local/lib/python3.10/dist-packages (from scikit-surprise) (1.22.4)\n",
            "Requirement already satisfied: scipy>=1.3.2 in /usr/local/lib/python3.10/dist-packages (from scikit-surprise) (1.10.1)\n",
            "Building wheels for collected packages: scikit-surprise\n",
            "  Building wheel for scikit-surprise (setup.py) ... \u001b[?25l\u001b[?25hdone\n",
            "  Created wheel for scikit-surprise: filename=scikit_surprise-1.1.3-cp310-cp310-linux_x86_64.whl size=2811616 sha256=239a5b896c9fa3b2be21f0116e544bea3705c61a6b8ac4b421c0971143edf41e\n",
            "  Stored in directory: /root/.cache/pip/wheels/a5/ca/a8/4e28def53797fdc4363ca4af740db15a9c2f1595ebc51fb445\n",
            "Successfully built scikit-surprise\n",
            "Installing collected packages: scikit-surprise\n",
            "Successfully installed scikit-surprise-1.1.3\n"
          ]
        }
      ],
      "source": [
        "!pip install scikit-surprise"
      ]
    },
    {
      "cell_type": "code",
      "execution_count": 2,
      "metadata": {
        "id": "8YGDr1PJOB8X"
      },
      "outputs": [],
      "source": [
        "import pandas as pd\n",
        "\n",
        "from surprise import Dataset, SVD, SVDpp, NMF, accuracy\n",
        "from surprise.model_selection import cross_validate, GridSearchCV\n",
        "\n",
        "from collections import defaultdict\n",
        "import statistics\n",
        "from surprise.model_selection import train_test_split"
      ]
    },
    {
      "cell_type": "code",
      "execution_count": 3,
      "metadata": {
        "id": "ykEHQo2w7HAo",
        "colab": {
          "base_uri": "https://localhost:8080/"
        },
        "outputId": "49def04e-84e1-465b-fef9-539c467105e8"
      },
      "outputs": [
        {
          "output_type": "stream",
          "name": "stdout",
          "text": [
            "Dataset ml-100k could not be found. Do you want to download it? [Y/n] y\n",
            "Trying to download dataset from https://files.grouplens.org/datasets/movielens/ml-100k.zip...\n",
            "Done! Dataset ml-100k has been saved to /root/.surprise_data/ml-100k\n"
          ]
        }
      ],
      "source": [
        "data = Dataset.load_builtin(\"ml-100k\")"
      ]
    },
    {
      "cell_type": "code",
      "execution_count": 4,
      "metadata": {
        "colab": {
          "base_uri": "https://localhost:8080/"
        },
        "id": "oTUO9t4Q7E83",
        "outputId": "e32567d3-12e7-4df4-dfe3-c23bc596e2b7"
      },
      "outputs": [
        {
          "output_type": "stream",
          "name": "stdout",
          "text": [
            "943 users\n",
            "1682 items\n",
            "100000 ratings\n",
            "\n"
          ]
        }
      ],
      "source": [
        "with open(\"/root/.surprise_data/ml-100k/ml-100k/u.info\", \"r\") as f:\n",
        "    print(f.read())"
      ]
    },
    {
      "cell_type": "code",
      "execution_count": 5,
      "metadata": {
        "colab": {
          "base_uri": "https://localhost:8080/"
        },
        "id": "fJY84ToCOEg7",
        "outputId": "732bc0bc-8533-4ea1-bf85-748807e27f30"
      },
      "outputs": [
        {
          "output_type": "stream",
          "name": "stdout",
          "text": [
            "  user_id item_id  rating\n",
            "0     196     242     3.0\n",
            "1     186     302     3.0\n",
            "2      22     377     1.0\n",
            "3     244      51     2.0\n",
            "4     166     346     1.0\n"
          ]
        }
      ],
      "source": [
        "raw_ratings = data.raw_ratings\n",
        "raw_ratings = [(user_id, item_id, rating) for user_id, item_id, rating, _ in raw_ratings]\n",
        "\n",
        "columns = ['user_id', 'item_id', 'rating']\n",
        "df = pd.DataFrame(raw_ratings, columns=columns)\n",
        "\n",
        "print(df.head())"
      ]
    },
    {
      "cell_type": "code",
      "execution_count": 6,
      "metadata": {
        "colab": {
          "base_uri": "https://localhost:8080/"
        },
        "id": "JqtI0vce2jLD",
        "outputId": "9067d087-e9f5-48f7-9ab3-5f952db60697"
      },
      "outputs": [
        {
          "output_type": "stream",
          "name": "stdout",
          "text": [
            "Mean Rating: 3.52986\n",
            "Standard Deviation of Ratings: 1.125673599144316\n"
          ]
        }
      ],
      "source": [
        "mean_rating = df['rating'].mean()\n",
        "std_rating = df['rating'].std()\n",
        "\n",
        "print(\"Mean Rating:\", mean_rating)\n",
        "print(\"Standard Deviation of Ratings:\", std_rating)"
      ]
    },
    {
      "cell_type": "code",
      "execution_count": 7,
      "metadata": {
        "id": "3CAPnsC5-3Zw"
      },
      "outputs": [],
      "source": [
        "trainset, testset = train_test_split(data, test_size=0.2)"
      ]
    },
    {
      "cell_type": "markdown",
      "metadata": {
        "id": "uUVFJ6D37q7J"
      },
      "source": [
        "## SVD"
      ]
    },
    {
      "cell_type": "code",
      "source": [
        "param_grid_svd = {\n",
        "    'n_epochs': [10, 15, 20],\n",
        "    'lr_all': [0.002, 0.005],\n",
        "    'reg_all': [0.04, 0.06],\n",
        "    'n_factors': [1, 20, 50],\n",
        "    'init_mean': [mean_rating],\n",
        "    'init_std_dev': [0.1, 1]\n",
        "}"
      ],
      "metadata": {
        "id": "T_0ZtYHZz5oI"
      },
      "execution_count": null,
      "outputs": []
    },
    {
      "cell_type": "code",
      "execution_count": 9,
      "metadata": {
        "colab": {
          "base_uri": "https://localhost:8080/"
        },
        "id": "yP_yQHvUOTyB",
        "outputId": "0f2cd080-ce1d-419a-bbe5-4cee513b1919"
      },
      "outputs": [
        {
          "output_type": "stream",
          "name": "stderr",
          "text": [
            "[Parallel(n_jobs=-1)]: Using backend LokyBackend with 2 concurrent workers.\n",
            "[Parallel(n_jobs=-1)]: Done  14 tasks      | elapsed:    5.3s\n",
            "[Parallel(n_jobs=-1)]: Done  68 tasks      | elapsed:   20.8s\n",
            "[Parallel(n_jobs=-1)]: Done 158 tasks      | elapsed:   49.8s\n",
            "[Parallel(n_jobs=-1)]: Done 284 tasks      | elapsed:  1.6min\n",
            "[Parallel(n_jobs=-1)]: Done 360 out of 360 | elapsed:  2.1min finished\n"
          ]
        }
      ],
      "source": [
        "grid_search_svd = GridSearchCV(SVD, param_grid_svd, measures=['rmse', 'mae'], cv=5, n_jobs=-1, joblib_verbose=5)\n",
        "\n",
        "grid_search_svd.fit(data)"
      ]
    },
    {
      "cell_type": "code",
      "execution_count": 10,
      "metadata": {
        "colab": {
          "base_uri": "https://localhost:8080/"
        },
        "id": "IMg_Szsd5qLj",
        "outputId": "1463ec56-c714-48db-c49b-9959cefefb09"
      },
      "outputs": [
        {
          "output_type": "stream",
          "name": "stdout",
          "text": [
            "{'rmse': {'n_epochs': 20, 'lr_all': 0.005, 'reg_all': 0.06, 'n_factors': 1, 'init_mean': 3.52986, 'init_std_dev': 0.1}, 'mae': {'n_epochs': 20, 'lr_all': 0.005, 'reg_all': 0.06, 'n_factors': 1, 'init_mean': 3.52986, 'init_std_dev': 0.1}}\n",
            "0.9520599508460064\n",
            "0.7500099963415784\n"
          ]
        }
      ],
      "source": [
        "print(grid_search_svd.best_params)\n",
        "print(grid_search_svd.best_score['rmse'])\n",
        "print(grid_search_svd.best_score['mae'])"
      ]
    },
    {
      "cell_type": "code",
      "execution_count": 12,
      "metadata": {
        "colab": {
          "base_uri": "https://localhost:8080/"
        },
        "id": "zguduPIv-xhw",
        "outputId": "4ce88b95-fa25-4a39-86c6-03cb7b9e4b94"
      },
      "outputs": [
        {
          "output_type": "stream",
          "name": "stdout",
          "text": [
            "RMSE: 0.9491\n",
            "MAE:  0.7471\n"
          ]
        }
      ],
      "source": [
        "algo_svd = SVD(n_epochs=20, n_factors=1, lr_all=0.005, reg_all=0.06, init_mean=3.52986, init_std_dev=0.1)\n",
        "\n",
        "algo_svd.fit(trainset)\n",
        "\n",
        "predictions = algo_svd.test(testset)\n",
        "\n",
        "rmse = accuracy.rmse(predictions)\n",
        "mae = accuracy.mae(predictions)"
      ]
    },
    {
      "cell_type": "markdown",
      "metadata": {
        "id": "KKBKrUVt7wCY"
      },
      "source": [
        "## SVD++"
      ]
    },
    {
      "cell_type": "code",
      "source": [
        "param_grid_svd_plus = {\n",
        "    'n_epochs': [10, 15, 20],\n",
        "    'lr_all': [0.002, 0.005],\n",
        "    'reg_all': [0.04, 0.06],\n",
        "    'n_factors': [1, 20, 50],\n",
        "    'init_mean': [mean_rating],\n",
        "    'init_std_dev': [0.1]\n",
        "}"
      ],
      "metadata": {
        "id": "6OpQy9xWz-jf"
      },
      "execution_count": 14,
      "outputs": []
    },
    {
      "cell_type": "code",
      "execution_count": 15,
      "metadata": {
        "colab": {
          "base_uri": "https://localhost:8080/"
        },
        "id": "PVjw96Po7u4u",
        "outputId": "d4aff199-f61f-4947-d547-58ca473979d2"
      },
      "outputs": [
        {
          "output_type": "stream",
          "name": "stderr",
          "text": [
            "[Parallel(n_jobs=-1)]: Using backend LokyBackend with 2 concurrent workers.\n",
            "[Parallel(n_jobs=-1)]: Done  14 tasks      | elapsed:  2.2min\n",
            "[Parallel(n_jobs=-1)]: Done  68 tasks      | elapsed: 13.5min\n",
            "[Parallel(n_jobs=-1)]: Done 108 out of 108 | elapsed: 25.8min finished\n"
          ]
        }
      ],
      "source": [
        "grid_search_svd_plus = GridSearchCV(SVDpp, param_grid_svd_plus, measures=['rmse', 'mae'], cv=3, n_jobs=-1, joblib_verbose=5)\n",
        "\n",
        "grid_search_svd_plus.fit(data)"
      ]
    },
    {
      "cell_type": "code",
      "execution_count": 16,
      "metadata": {
        "id": "qz_1-bmd8OVw",
        "colab": {
          "base_uri": "https://localhost:8080/"
        },
        "outputId": "39e8f965-075e-4672-85fd-f488e6bbe604"
      },
      "outputs": [
        {
          "output_type": "stream",
          "name": "stdout",
          "text": [
            "{'rmse': {'n_epochs': 20, 'lr_all': 0.002, 'reg_all': 0.04, 'n_factors': 1, 'init_mean': 3.52986, 'init_std_dev': 0.1}, 'mae': {'n_epochs': 20, 'lr_all': 0.002, 'reg_all': 0.04, 'n_factors': 1, 'init_mean': 3.52986, 'init_std_dev': 0.1}}\n",
            "1.6989419051965815\n",
            "1.3738269567125165\n"
          ]
        }
      ],
      "source": [
        "print(grid_search_svd_plus.best_params)\n",
        "print(grid_search_svd_plus.best_score['rmse'])\n",
        "print(grid_search_svd_plus.best_score['mae'])"
      ]
    },
    {
      "cell_type": "code",
      "source": [
        "algo_svd_plus = SVDpp(n_epochs=20, n_factors=1, lr_all=0.002, reg_all=0.04, init_mean=3.52986, init_std_dev=0.1)\n",
        "\n",
        "algo_svd_plus.fit(trainset)\n",
        "\n",
        "predictions = algo_svd_plus.test(testset)\n",
        "\n",
        "rmse = accuracy.rmse(predictions)\n",
        "mae = accuracy.mae(predictions)"
      ],
      "metadata": {
        "colab": {
          "base_uri": "https://localhost:8080/"
        },
        "id": "rVegmpbP6jOi",
        "outputId": "adba90d4-41ad-4868-d065-326a89f1989e"
      },
      "execution_count": 18,
      "outputs": [
        {
          "output_type": "stream",
          "name": "stdout",
          "text": [
            "RMSE: 1.5882\n",
            "MAE:  1.2787\n"
          ]
        }
      ]
    },
    {
      "cell_type": "markdown",
      "metadata": {
        "id": "pIlO2TbN8pP0"
      },
      "source": [
        "## NMF"
      ]
    },
    {
      "cell_type": "code",
      "execution_count": 19,
      "metadata": {
        "id": "eGuqyirC9jpr"
      },
      "outputs": [],
      "source": [
        "param_grid_nmf = {\n",
        "    'n_epochs': [10, 15, 20],\n",
        "    'n_factors': [1, 20, 50],\n",
        "    'reg_pu': [0.02, 0.04, 0.06],\n",
        "    'reg_qi': [0.02, 0.04, 0.06]\n",
        "}"
      ]
    },
    {
      "cell_type": "code",
      "execution_count": 20,
      "metadata": {
        "colab": {
          "base_uri": "https://localhost:8080/"
        },
        "id": "Pt4qHrX28sfq",
        "outputId": "809a1f45-ab2f-49ba-93ac-dedc85d8a5a1"
      },
      "outputs": [
        {
          "output_type": "stream",
          "name": "stderr",
          "text": [
            "[Parallel(n_jobs=-1)]: Using backend LokyBackend with 2 concurrent workers.\n",
            "[Parallel(n_jobs=-1)]: Done  14 tasks      | elapsed:    5.7s\n",
            "[Parallel(n_jobs=-1)]: Done  68 tasks      | elapsed:   27.1s\n",
            "[Parallel(n_jobs=-1)]: Done 158 tasks      | elapsed:  1.2min\n",
            "[Parallel(n_jobs=-1)]: Done 243 out of 243 | elapsed:  2.0min finished\n"
          ]
        }
      ],
      "source": [
        "grid_search_nmf = GridSearchCV(NMF, param_grid_nmf, measures=['rmse', 'mae'], cv=3, n_jobs=-1, joblib_verbose=5)\n",
        "\n",
        "grid_search_nmf.fit(data)"
      ]
    },
    {
      "cell_type": "code",
      "source": [
        "print(grid_search_nmf.best_params)\n",
        "print(grid_search_nmf.best_score['rmse'])\n",
        "print(grid_search_nmf.best_score['mae'])"
      ],
      "metadata": {
        "colab": {
          "base_uri": "https://localhost:8080/"
        },
        "id": "PeGlpzEf7tZF",
        "outputId": "cfef8b05-1646-4dfd-f1d9-d6f2704f0b8d"
      },
      "execution_count": 22,
      "outputs": [
        {
          "output_type": "stream",
          "name": "stdout",
          "text": [
            "{'rmse': {'n_epochs': 20, 'n_factors': 20, 'reg_pu': 0.06, 'reg_qi': 0.06}, 'mae': {'n_epochs': 20, 'n_factors': 20, 'reg_pu': 0.06, 'reg_qi': 0.06}}\n",
            "1.1075987808563452\n",
            "0.8432669462048706\n"
          ]
        }
      ]
    },
    {
      "cell_type": "code",
      "source": [
        "algo_nmf = NMF(n_epochs=20, n_factors=20, reg_pu=0.06, reg_qi=0.06)\n",
        "\n",
        "algo_nmf.fit(trainset)\n",
        "\n",
        "predictions = algo_nmf.test(testset)\n",
        "\n",
        "rmse = accuracy.rmse(predictions)\n",
        "mae = accuracy.mae(predictions)"
      ],
      "metadata": {
        "colab": {
          "base_uri": "https://localhost:8080/"
        },
        "id": "xQglXFOq7yrW",
        "outputId": "d3a65d2a-a606-4552-b1a7-95d84a465e52"
      },
      "execution_count": 23,
      "outputs": [
        {
          "output_type": "stream",
          "name": "stdout",
          "text": [
            "RMSE: 1.1129\n",
            "MAE:  0.8439\n"
          ]
        }
      ]
    },
    {
      "cell_type": "markdown",
      "source": [
        "# Висновок\n",
        "\n",
        "1. SVD:\n",
        "- Найкращі параметри: {'n_epochs': 20, 'lr_all': 0.005, 'reg_all': 0.06, 'n_factors': 1, 'init_mean': 3.52986, 'init_std_dev': 0.1}\n",
        "- Найкраща RMSE: 0.9521\n",
        "- Найкраща MAE: 0.7500\n",
        "\n",
        "2. SVD++:\n",
        "- Найкращі параметри: {'n_epochs': 20, 'lr_all': 0.002, 'reg_all': 0.04, 'n_factors': 1, 'init_mean': 3.52986, 'init_std_dev': 0.1}\n",
        "- Найкраща RMSE: 1.6989\n",
        "- Найкраща MAE: 1.3738\n",
        "\n",
        "3. NMF:\n",
        "- Найкращі параметри: {'n_epochs': 20, 'n_factors': 20, 'reg_pu': 0.06, 'reg_qi': 0.06}\n",
        "- Найкраща RMSE: 1.1076\n",
        "- Найкраща MAE: 0.8433\n",
        "\n",
        "\n",
        "SVD показує найкращі результати серед усіх трьох алгоритмів з найнижчими значеннями RMSE (0.9521) та MAE (0.7500).\n",
        "\n",
        "SVD++ показує значно гірші результати порівняно з SVD, з набагато вищими значеннями RMSE (1.6989) та MAE (1.3738). SVD++ враховує неявний відгук, крім явних оцінок, але в даному випадку це не призвело до поліпшення результатів.\n",
        "\n",
        "NMF показує кращі результати, ніж SVD++, але гірші, ніж SVD. Його RMSE (1.1076) та MAE (0.8433) нижчі, ніж у SVD++, але все ж вищі, ніж у SVD. NMF має інший підхід до факторизації матриць, який спрямований на розкладання матриць на невід'ємні компоненти.\n",
        "\n",
        "Загалом, SVD виділяється як найефективніший алгоритм для даного набору даних, надаючи найкращу точність прогнозування для рейтингів фільмів.\n",
        "\n"
      ],
      "metadata": {
        "id": "eDqET-Ym-J2r"
      }
    }
  ],
  "metadata": {
    "colab": {
      "provenance": []
    },
    "kernelspec": {
      "display_name": "Python 3",
      "name": "python3"
    },
    "language_info": {
      "name": "python"
    }
  },
  "nbformat": 4,
  "nbformat_minor": 0
}